{
 "cells": [
  {
   "cell_type": "code",
   "execution_count": null,
   "metadata": {},
   "outputs": [],
   "source": [
    "import pandas as pd\n",
    "import numpy as np\n",
    "import glob\n",
    "import matplotlib.pyplot as plt"
   ]
  },
  {
   "cell_type": "code",
   "execution_count": null,
   "metadata": {},
   "outputs": [],
   "source": [
    "#iterate over files\n",
    "content = []\n",
    "files = glob.glob('../zillow_files/apartments_scraped_*')\n",
    "for file in files:\n",
    "    initial_load = pd.read_csv(file, index_col=0)\n",
    "    content.append(initial_load)\n",
    "print(content)\n",
    "\n",
    "df = pd.concat(content)\n",
    "\n",
    "# convert date column from object to datetime\n",
    "df['Date_Webscraped'] = df['Date_Webscraped'].astype('datetime64')"
   ]
  },
  {
   "cell_type": "code",
   "execution_count": null,
   "metadata": {},
   "outputs": [],
   "source": [
    "#check for null values\n",
    "df.isna().sum()"
   ]
  },
  {
   "cell_type": "code",
   "execution_count": null,
   "metadata": {},
   "outputs": [],
   "source": [
    " # preliminary stats-- what's the avg price per bedroom, \n",
    " # and what's the distribution of apartments with different # of bedrooms\n",
    " # clearly a lot more apartments with 2 bedrooms are listed than other apartment sizes\n",
    " # does the date the data was first scraped affect any of these stats\n",
    "\n",
    "beds_df = df.groupby(['Beds','Date_Webscraped']).agg({'Price':np.mean,\"Beds\":np.size})\n",
    "print(beds_df)"
   ]
  },
  {
   "cell_type": "code",
   "execution_count": null,
   "metadata": {},
   "outputs": [],
   "source": []
  }
 ],
 "metadata": {
  "interpreter": {
   "hash": "1d415c52b0909aad2315fa4f0b473e09bdaec8b59fbe5369ae31f7ac7cfc161a"
  },
  "kernelspec": {
   "display_name": "Python 3.9.10 64-bit ('Project-Zillow-7c5Nwe0m': pipenv)",
   "language": "python",
   "name": "python3"
  },
  "language_info": {
   "codemirror_mode": {
    "name": "ipython",
    "version": 3
   },
   "file_extension": ".py",
   "mimetype": "text/x-python",
   "name": "python",
   "nbconvert_exporter": "python",
   "pygments_lexer": "ipython3",
   "version": "3.9.10"
  },
  "orig_nbformat": 4
 },
 "nbformat": 4,
 "nbformat_minor": 2
}
