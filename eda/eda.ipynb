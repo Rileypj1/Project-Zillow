{
 "cells": [
  {
   "cell_type": "code",
   "execution_count": 299,
   "metadata": {},
   "outputs": [],
   "source": [
    "import pandas as pd\n",
    "import numpy as np\n",
    "import glob\n",
    "import matplotlib.pyplot as plt"
   ]
  },
  {
   "cell_type": "code",
   "execution_count": 300,
   "metadata": {},
   "outputs": [
    {
     "name": "stdout",
     "output_type": "stream",
     "text": [
      "[                              Address   Price  Beds  Baths Neighborhood  \\\n",
      "0                  837 Almond St19125  1995.0     4      1     Fishtown   \n",
      "1     1050 E Montgomery Ave #30919125  1950.0     3      1     Fishtown   \n",
      "2             438 Memphis St #4219125  1700.0     1      1     Fishtown   \n",
      "3    2636 Belgrade St #810712D4B19125  1867.0     2      2     Fishtown   \n",
      "4                  1722 Blair St19125  1995.0     4      2     Fishtown   \n",
      "..                                ...     ...   ...    ...          ...   \n",
      "97      425 S Carlisle St APT 2C19146  1450.0     1      1  Rittenhouse   \n",
      "98      271 S 15th St #1AC437A0419102  1310.0     0      1  Rittenhouse   \n",
      "99        135 S 20th St #163863919103  1300.0     0      1  Rittenhouse   \n",
      "100      1401 Walnut St #144842819103  4950.0     2      2  Rittenhouse   \n",
      "101          1712 Pine St APT 2R19103  1395.0     1      1  Rittenhouse   \n",
      "\n",
      "      Latitude  Longitude Date_Webscraped  \n",
      "0    39.974865 -75.124954      2022-04-05  \n",
      "1    39.969930 -75.126780      2022-04-05  \n",
      "2    39.974304 -75.131150      2022-04-05  \n",
      "3    39.979580 -75.117530      2022-04-05  \n",
      "4    39.975273 -75.133720      2022-04-05  \n",
      "..         ...        ...             ...  \n",
      "97   39.944910 -75.166120      2022-04-05  \n",
      "98   39.947403 -75.166245      2022-04-05  \n",
      "99   39.950775 -75.173590      2022-04-05  \n",
      "100  39.949590 -75.164520      2022-04-05  \n",
      "101  39.946026 -75.170500      2022-04-05  \n",
      "\n",
      "[102 rows x 8 columns],                                 Address   Price  Beds  Baths Neighborhood  \\\n",
      "0                    2551 Cedar St19125  2100.0     3      1     Fishtown   \n",
      "1              1122 E Palmer St #B19125  2900.0     3      2     Fishtown   \n",
      "2                 2207 Belgrade St19125  1850.0     2      1     Fishtown   \n",
      "3                   440 E Flora St19125  1650.0     2      1     Fishtown   \n",
      "4                1649 E Eyre St #119125  2300.0     2      1     Fishtown   \n",
      "..                                  ...     ...   ...    ...          ...   \n",
      "106        1401 Walnut St #144842819103  4950.0     2      2  Rittenhouse   \n",
      "107               2033 Chestnut St19103  1495.0     1      1  Rittenhouse   \n",
      "108         1705 Rittenhouse Sq #B19103  4195.0     3      3  Rittenhouse   \n",
      "109  224-30 W Rittenhouse Sq #171719103  1775.0     1      1  Rittenhouse   \n",
      "110        2004 Chestnut St APT 3F19103  2400.0     3      1  Rittenhouse   \n",
      "\n",
      "      Latitude  Longitude Date_Webscraped  \n",
      "0    39.980110 -75.120730      2022-04-10  \n",
      "1    39.970196 -75.128365      2022-04-10  \n",
      "2    39.975740 -75.124825      2022-04-10  \n",
      "3    39.971024 -75.129270      2022-04-10  \n",
      "4    39.976025 -75.131530      2022-04-10  \n",
      "..         ...        ...             ...  \n",
      "106  39.949590 -75.164520      2022-04-10  \n",
      "107  39.952490 -75.174644      2022-04-10  \n",
      "108  39.948406 -75.169850      2022-04-10  \n",
      "109  39.949074 -75.173630      2022-04-10  \n",
      "110  39.951890 -75.173800      2022-04-10  \n",
      "\n",
      "[111 rows x 8 columns],                               Address   Price  Beds  Baths Neighborhood  \\\n",
      "0           2426 E Lehigh Ave #119125   600.0     0      1     Fishtown   \n",
      "1               2336 E Harold St19125  1800.0     2      1     Fishtown   \n",
      "2    2636 Belgrade St #810712D4B19125  1867.0     2      2     Fishtown   \n",
      "3      1434-42 Frankford Ave #2B19125  1995.0     2      2     Fishtown   \n",
      "4        1324 Frankford Ave #40719125  2250.0     1      1     Fishtown   \n",
      "..                                ...     ...   ...    ...          ...   \n",
      "104                 1938 Pine St19103  4800.0     4      2  Rittenhouse   \n",
      "105      1401 Walnut St #144842819103  4950.0     2      2  Rittenhouse   \n",
      "106        1431 Lombard St APT 119146  1650.0     1      1  Rittenhouse   \n",
      "107            207 S 24th St #1F19103  4000.0     2      1  Rittenhouse   \n",
      "108         344 S 18th St APT 4F19103  2200.0     2      1  Rittenhouse   \n",
      "\n",
      "      Latitude  Longitude Date_Webscraped  \n",
      "0    39.981117 -75.117330      2022-03-30  \n",
      "1    39.981407 -75.120400      2022-03-30  \n",
      "2    39.979580 -75.117530      2022-03-30  \n",
      "3    39.972730 -75.134415      2022-03-30  \n",
      "4    39.971085 -75.134766      2022-03-30  \n",
      "..         ...        ...             ...  \n",
      "104  39.946587 -75.174484      2022-03-30  \n",
      "105  39.949590 -75.164520      2022-03-30  \n",
      "106  39.944950 -75.166500      2022-03-30  \n",
      "107  39.950706 -75.179340      2022-03-30  \n",
      "108  39.946600 -75.171616      2022-03-30  \n",
      "\n",
      "[109 rows x 8 columns]]\n"
     ]
    }
   ],
   "source": [
    "#iterate over files\n",
    "content = []\n",
    "files = glob.glob('../zillow_files/apartments_scraped_*')\n",
    "for file in files:\n",
    "    initial_load = pd.read_csv(file, index_col=0)\n",
    "    content.append(initial_load)\n",
    "print(content)\n",
    "\n",
    "df = pd.concat(content)\n",
    "\n",
    "# convert date column from object to datetime\n",
    "df['Date_Webscraped'] = df['Date_Webscraped'].astype('datetime64')"
   ]
  },
  {
   "cell_type": "code",
   "execution_count": 301,
   "metadata": {},
   "outputs": [
    {
     "data": {
      "text/plain": [
       "Address            0\n",
       "Price              0\n",
       "Beds               0\n",
       "Baths              0\n",
       "Neighborhood       0\n",
       "Latitude           0\n",
       "Longitude          0\n",
       "Date_Webscraped    0\n",
       "dtype: int64"
      ]
     },
     "execution_count": 301,
     "metadata": {},
     "output_type": "execute_result"
    }
   ],
   "source": [
    "#check for null values\n",
    "df.isna().sum()"
   ]
  },
  {
   "cell_type": "code",
   "execution_count": 302,
   "metadata": {},
   "outputs": [
    {
     "data": {
      "image/png": "[encoded data removed]",
      "text/plain": [
       "<Figure size 432x288 with 1 Axes>"
      ]
     },
     "metadata": {
      "needs_background": "light"
     },
     "output_type": "display_data"
    }
   ],
   "source": [
    "#see distribution of price\n",
    "plt.hist(df.Price, bins=len(set(df.Beds))*10)\n",
    "plt.show()"
   ]
  },
  {
   "cell_type": "code",
   "execution_count": 303,
   "metadata": {},
   "outputs": [
    {
     "data": {
      "image/png": "[encoded data removed]",
      "text/plain": [
       "<Figure size 432x288 with 1 Axes>"
      ]
     },
     "metadata": {
      "needs_background": "light"
     },
     "output_type": "display_data"
    }
   ],
   "source": [
    "#maybe a good start but other factors like Beds could affect this\n",
    "plt.barh(df.Neighborhood, df.Price)\n",
    "plt.title('Price Comparison per Neighborhood')\n",
    "plt.show()"
   ]
  },
  {
   "cell_type": "code",
   "execution_count": 304,
   "metadata": {},
   "outputs": [
    {
     "data": {
      "text/html": [
       "<div>\n",
       "<style scoped>\n",
       "    .dataframe tbody tr th:only-of-type {\n",
       "        vertical-align: middle;\n",
       "    }\n",
       "\n",
       "    .dataframe tbody tr th {\n",
       "        vertical-align: top;\n",
       "    }\n",
       "\n",
       "    .dataframe thead th {\n",
       "        text-align: right;\n",
       "    }\n",
       "</style>\n",
       "<table border=\"1\" class=\"dataframe\">\n",
       "  <thead>\n",
       "    <tr style=\"text-align: right;\">\n",
       "      <th></th>\n",
       "      <th>Address</th>\n",
       "      <th>Price</th>\n",
       "      <th>Beds</th>\n",
       "      <th>Baths</th>\n",
       "      <th>Neighborhood</th>\n",
       "      <th>Latitude</th>\n",
       "      <th>Longitude</th>\n",
       "      <th>Date_Webscraped</th>\n",
       "    </tr>\n",
       "  </thead>\n",
       "  <tbody>\n",
       "    <tr>\n",
       "      <th>69</th>\n",
       "      <td>1011 Federal St19147</td>\n",
       "      <td>2400.0</td>\n",
       "      <td>5</td>\n",
       "      <td>2</td>\n",
       "      <td>Passyunk Square</td>\n",
       "      <td>39.93477</td>\n",
       "      <td>-75.16079</td>\n",
       "      <td>2022-04-10</td>\n",
       "    </tr>\n",
       "  </tbody>\n",
       "</table>\n",
       "</div>"
      ],
      "text/plain": [
       "                 Address   Price  Beds  Baths     Neighborhood  Latitude  \\\n",
       "69  1011 Federal St19147  2400.0     5      2  Passyunk Square  39.93477   \n",
       "\n",
       "    Longitude Date_Webscraped  \n",
       "69  -75.16079      2022-04-10  "
      ]
     },
     "execution_count": 304,
     "metadata": {},
     "output_type": "execute_result"
    }
   ],
   "source": [
    "#Passyunk Square is the only neighborhood with a 5 bed apt listing\n",
    "#this is partly skewing the comparison above\n",
    "df[df['Beds'] > 4]"
   ]
  },
  {
   "cell_type": "code",
   "execution_count": 305,
   "metadata": {},
   "outputs": [],
   "source": [
    "\n",
    "beds_df = df.groupby(['Neighborhood','Beds']).agg(Total_Count=pd.NamedAgg(column=\"Beds\", aggfunc=\"count\"))\n"
   ]
  },
  {
   "cell_type": "code",
   "execution_count": 306,
   "metadata": {},
   "outputs": [
    {
     "name": "stderr",
     "output_type": "stream",
     "text": [
      "/var/folders/zy/z96pcm290zq7tns2z12czq_c0000gn/T/ipykernel_1519/2941674489.py:6: FutureWarning: In a future version of pandas all arguments of DataFrame.sort_index will be keyword-only.\n",
      "  beds_df.sort_index(0, inplace=True)\n"
     ]
    }
   ],
   "source": [
    "beds_df.loc[('Fairmount', 5), 'Total_Count'] = 0\n",
    "beds_df.loc[('Fishtown', 5), 'Total_Count'] = 0\n",
    "beds_df.loc[('Passyunk Square', 0), 'Total_Count'] = 0\n",
    "beds_df.loc[('Rittenhouse', 5), 'Total_Count'] = 0\n",
    "\n",
    "beds_df.sort_index(0, inplace=True)"
   ]
  },
  {
   "cell_type": "code",
   "execution_count": 307,
   "metadata": {},
   "outputs": [
    {
     "data": {
      "text/html": [
       "<div>\n",
       "<style scoped>\n",
       "    .dataframe tbody tr th:only-of-type {\n",
       "        vertical-align: middle;\n",
       "    }\n",
       "\n",
       "    .dataframe tbody tr th {\n",
       "        vertical-align: top;\n",
       "    }\n",
       "\n",
       "    .dataframe thead th {\n",
       "        text-align: right;\n",
       "    }\n",
       "</style>\n",
       "<table border=\"1\" class=\"dataframe\">\n",
       "  <thead>\n",
       "    <tr style=\"text-align: right;\">\n",
       "      <th></th>\n",
       "      <th></th>\n",
       "      <th>Total_Count</th>\n",
       "    </tr>\n",
       "    <tr>\n",
       "      <th>Neighborhood</th>\n",
       "      <th>Beds</th>\n",
       "      <th></th>\n",
       "    </tr>\n",
       "  </thead>\n",
       "  <tbody>\n",
       "    <tr>\n",
       "      <th rowspan=\"6\" valign=\"top\">Fairmount</th>\n",
       "      <th>0</th>\n",
       "      <td>2.0</td>\n",
       "    </tr>\n",
       "    <tr>\n",
       "      <th>1</th>\n",
       "      <td>23.0</td>\n",
       "    </tr>\n",
       "    <tr>\n",
       "      <th>2</th>\n",
       "      <td>47.0</td>\n",
       "    </tr>\n",
       "    <tr>\n",
       "      <th>3</th>\n",
       "      <td>24.0</td>\n",
       "    </tr>\n",
       "    <tr>\n",
       "      <th>4</th>\n",
       "      <td>3.0</td>\n",
       "    </tr>\n",
       "    <tr>\n",
       "      <th>5</th>\n",
       "      <td>0.0</td>\n",
       "    </tr>\n",
       "    <tr>\n",
       "      <th rowspan=\"6\" valign=\"top\">Fishtown</th>\n",
       "      <th>0</th>\n",
       "      <td>5.0</td>\n",
       "    </tr>\n",
       "    <tr>\n",
       "      <th>1</th>\n",
       "      <td>19.0</td>\n",
       "    </tr>\n",
       "    <tr>\n",
       "      <th>2</th>\n",
       "      <td>44.0</td>\n",
       "    </tr>\n",
       "    <tr>\n",
       "      <th>3</th>\n",
       "      <td>23.0</td>\n",
       "    </tr>\n",
       "    <tr>\n",
       "      <th>4</th>\n",
       "      <td>11.0</td>\n",
       "    </tr>\n",
       "    <tr>\n",
       "      <th>5</th>\n",
       "      <td>0.0</td>\n",
       "    </tr>\n",
       "    <tr>\n",
       "      <th rowspan=\"6\" valign=\"top\">Passyunk Square</th>\n",
       "      <th>0</th>\n",
       "      <td>0.0</td>\n",
       "    </tr>\n",
       "    <tr>\n",
       "      <th>1</th>\n",
       "      <td>18.0</td>\n",
       "    </tr>\n",
       "    <tr>\n",
       "      <th>2</th>\n",
       "      <td>35.0</td>\n",
       "    </tr>\n",
       "    <tr>\n",
       "      <th>3</th>\n",
       "      <td>8.0</td>\n",
       "    </tr>\n",
       "    <tr>\n",
       "      <th>4</th>\n",
       "      <td>1.0</td>\n",
       "    </tr>\n",
       "    <tr>\n",
       "      <th>5</th>\n",
       "      <td>1.0</td>\n",
       "    </tr>\n",
       "    <tr>\n",
       "      <th rowspan=\"6\" valign=\"top\">Rittenhouse</th>\n",
       "      <th>0</th>\n",
       "      <td>13.0</td>\n",
       "    </tr>\n",
       "    <tr>\n",
       "      <th>1</th>\n",
       "      <td>23.0</td>\n",
       "    </tr>\n",
       "    <tr>\n",
       "      <th>2</th>\n",
       "      <td>14.0</td>\n",
       "    </tr>\n",
       "    <tr>\n",
       "      <th>3</th>\n",
       "      <td>4.0</td>\n",
       "    </tr>\n",
       "    <tr>\n",
       "      <th>4</th>\n",
       "      <td>4.0</td>\n",
       "    </tr>\n",
       "    <tr>\n",
       "      <th>5</th>\n",
       "      <td>0.0</td>\n",
       "    </tr>\n",
       "  </tbody>\n",
       "</table>\n",
       "</div>"
      ],
      "text/plain": [
       "                      Total_Count\n",
       "Neighborhood    Beds             \n",
       "Fairmount       0             2.0\n",
       "                1            23.0\n",
       "                2            47.0\n",
       "                3            24.0\n",
       "                4             3.0\n",
       "                5             0.0\n",
       "Fishtown        0             5.0\n",
       "                1            19.0\n",
       "                2            44.0\n",
       "                3            23.0\n",
       "                4            11.0\n",
       "                5             0.0\n",
       "Passyunk Square 0             0.0\n",
       "                1            18.0\n",
       "                2            35.0\n",
       "                3             8.0\n",
       "                4             1.0\n",
       "                5             1.0\n",
       "Rittenhouse     0            13.0\n",
       "                1            23.0\n",
       "                2            14.0\n",
       "                3             4.0\n",
       "                4             4.0\n",
       "                5             0.0"
      ]
     },
     "execution_count": 307,
     "metadata": {},
     "output_type": "execute_result"
    }
   ],
   "source": [
    "beds_df"
   ]
  },
  {
   "cell_type": "code",
   "execution_count": 308,
   "metadata": {},
   "outputs": [
    {
     "data": {
      "text/plain": [
       "[0, 1, 2, 3, 4, 5]"
      ]
     },
     "execution_count": 308,
     "metadata": {},
     "output_type": "execute_result"
    }
   ],
   "source": [
    "category_names = list(set(beds_df.index.get_level_values(1)))\n",
    "category_names"
   ]
  },
  {
   "cell_type": "code",
   "execution_count": 309,
   "metadata": {},
   "outputs": [
    {
     "data": {
      "image/png": "[encoded data removed]",
      "text/plain": [
       "<Figure size 662.4x360 with 1 Axes>"
      ]
     },
     "metadata": {
      "needs_background": "light"
     },
     "output_type": "display_data"
    }
   ],
   "source": [
    " # preliminary stats-- what's the avg price per bedroom, \n",
    " # and what's the distribution of apartments with different # of bedrooms\n",
    " # clearly a lot more apartments with 2 bedrooms are listed than other apartment sizes\n",
    " # does the date the data was first scraped affect any of these stats\n",
    "\n",
    "category_names = list(set(beds_df.index.get_level_values(1)))\n",
    "labels = list(set(beds_df.index.get_level_values(0)))\n",
    "data = np.array(list(beds_df.values))\n",
    "data.shape = (4,6)\n",
    "data_cum = data.cumsum(axis=1)\n",
    "category_colors = plt.colormaps['RdYlGn'](\n",
    "    np.linspace(0.15, 0.85, data.shape[1]))\n",
    "\n",
    "fig, ax = plt.subplots(figsize=(9.2, 5))\n",
    "ax.invert_yaxis()\n",
    "ax.xaxis.set_visible(False)\n",
    "ax.set_xlim(0, np.sum(data, axis=1).max())\n",
    "for i, (colname, color) in enumerate(zip(category_names, category_colors)):\n",
    "    widths = data[:, i]\n",
    "    starts = data_cum[:, i] - widths\n",
    "    rects = ax.barh(labels, widths, left=starts, height=0.5,\n",
    "                    label=colname, color=color)\n",
    "\n",
    "    r, g, b, _ = color\n",
    "    text_color = 'white' if r * g * b < 0.5 else 'darkgrey'\n",
    "    ax.bar_label(rects, label_type='center', color=text_color)\n",
    "ax.legend(ncol=len(category_names),\n",
    "            loc='lower right', bbox_to_anchor=(1, -0.15), fontsize='small', title=\"# of Bedrooms/Apartment\")\n",
    "plt.title(\"Total Apartments Listed by # of Bedrooms in each Neighborhood\")\n",
    "plt.show()\n"
   ]
  },
  {
   "cell_type": "code",
   "execution_count": null,
   "metadata": {},
   "outputs": [],
   "source": []
  }
 ],
 "metadata": {
  "interpreter": {
   "hash": "1d415c52b0909aad2315fa4f0b473e09bdaec8b59fbe5369ae31f7ac7cfc161a"
  },
  "kernelspec": {
   "display_name": "Python 3.9.10 64-bit ('Project-Zillow-7c5Nwe0m': pipenv)",
   "language": "python",
   "name": "python3"
  },
  "language_info": {
   "codemirror_mode": {
    "name": "ipython",
    "version": 3
   },
   "file_extension": ".py",
   "mimetype": "text/x-python",
   "name": "python",
   "nbconvert_exporter": "python",
   "pygments_lexer": "ipython3",
   "version": "3.9.10"
  },
  "orig_nbformat": 4
 },
 "nbformat": 4,
 "nbformat_minor": 2
}
